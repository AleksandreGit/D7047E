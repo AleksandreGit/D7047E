{
 "cells": [
  {
   "cell_type": "code",
   "execution_count": 1,
   "metadata": {},
   "outputs": [],
   "source": [
    "import torch\n",
    "import torch.nn as nn\n",
    "import torchvision.transforms as transforms\n",
    "import torchvision.models as models\n",
    "import torchvision\n",
    "import numpy as np\n",
    "from sklearn.model_selection import train_test_split\n",
    "import torch.nn.functional as F\n",
    "from sklearn import datasets\n",
    "from sklearn.manifold import TSNE\n",
    "from sklearn.decomposition import PCA\n",
    "import pandas as pd\n",
    "from sklearn.preprocessing import StandardScaler"
   ]
  },
  {
   "cell_type": "code",
   "execution_count": 34,
   "metadata": {},
   "outputs": [],
   "source": [
    "\n",
    "transform = transforms.Compose(\n",
    "    [\n",
    "    transforms.ToTensor()#,\n",
    "    #transforms.Normalize(mean=[0.485, 0.456, 0.406], std=[0.229, 0.224, 0.225]),\n",
    "    ])\n",
    "\n",
    "# MNIST                                           \n",
    "train = torchvision.datasets.MNIST(root='./data', train=True,\n",
    "                                        download=True, transform=transform)\n",
    "X_train, X_val= train_test_split(\n",
    "train, test_size=0.2, random_state=42)\n",
    "\n",
    "trainLoader = torch.utils.data.DataLoader(X_train, batch_size=100,\n",
    "                                          shuffle=True, num_workers=2)\n",
    "\n",
    "validationLoader = torch.utils.data.DataLoader(X_val, batch_size=100,\n",
    "                                          shuffle=True, num_workers=2)\n",
    "\n",
    "test = torchvision.datasets.MNIST(root='./data', train=False,\n",
    "                                       download=True, transform=transform)\n",
    "testLoader = torch.utils.data.DataLoader(test, batch_size=30,\n",
    "                                         shuffle=False, num_workers=2)"
   ]
  },
  {
   "cell_type": "markdown",
   "metadata": {},
   "source": [
    "# CNN"
   ]
  },
  {
   "cell_type": "code",
   "execution_count": 17,
   "metadata": {},
   "outputs": [],
   "source": [
    "class CNN(nn.Module):\n",
    "    def __init__(self,activation_function):\n",
    "        super().__init__()\n",
    "        self.images = []\n",
    "        self.conv = nn.Sequential(\n",
    "            nn.Conv2d(1, 6, 3),#28x28 -> 26x26 (no pad)\n",
    "            activation_function(),\n",
    "            nn.MaxPool2d(2, stride = 2), #2x2 maxpool (divide hight and with by 2 -> 13x13)\n",
    "            nn.Conv2d(6, 10, 3),#(no padding -> 11x11)\n",
    "            activation_function()\n",
    "#            nn.MaxPool2d(2, stride = 2)\n",
    "        )\n",
    "        self.linear_lay = nn.Sequential(\n",
    "            nn.Linear(1210, 150),# (11X11X10 (outchanels))\n",
    "            activation_function(),\n",
    "            nn.Linear(150, 50),\n",
    "            activation_function(),\n",
    "            nn.Linear(50,10)\n",
    "        )\n",
    "    \n",
    "        \n",
    "    def forward(self, x):\n",
    "        x = self.conv(x)\n",
    "        x = x.view(x.size(0),-1)# this flattens X before linear layer\n",
    "        #if x.shape[0]<100:\n",
    "        #    print(x.shape)\n",
    "        self.images=(x.detach().numpy())\n",
    "#         for val in x:\n",
    "#             self.images.append(val.detach().numpy())\n",
    "        x = self.linear_lay(x) # bc this is our output layer. No activation here.\n",
    "        \n",
    "        return F.softmax(x, dim=1)"
   ]
  },
  {
   "cell_type": "code",
   "execution_count": 43,
   "metadata": {},
   "outputs": [
    {
     "name": "stdout",
     "output_type": "stream",
     "text": [
      "0 1105.1715021133423\n"
     ]
    }
   ],
   "source": [
    "import torch.optim as optim\n",
    "\n",
    "model_untrained = CNN(nn.LeakyReLU)\n",
    "\n",
    "criterion = nn.CrossEntropyLoss()\n",
    "optimizer = optim.Adam(model_untrained.parameters(), lr=0.000001)\n",
    "\n",
    "\n",
    "for epoch in range(1):  # loop over the dataset multiple times\n",
    "    running_loss = 0.0\n",
    "    for i, data in enumerate(trainLoader, 0):\n",
    "        # get the inputs; data is a list of [inputs, labels]\n",
    "        inputs, labels = data\n",
    "        labels_untrained = labels\n",
    "        # zero the parameter gradients\n",
    "        optimizer.zero_grad()\n",
    "        \n",
    "        # forward + backward + optimize\n",
    "        outputs = model_untrained(inputs)\n",
    "        loss = criterion(outputs, labels)\n",
    "        loss.backward()\n",
    "        optimizer.step()\n",
    "\n",
    "        # print statistics\n",
    "        running_loss += loss.item()\n",
    "   \n",
    "    \n",
    "\n",
    "    \n",
    "    print(epoch, running_loss)\n",
    "    \n",
    "    running_loss = 0.0\n"
   ]
  },
  {
   "cell_type": "code",
   "execution_count": 50,
   "metadata": {},
   "outputs": [
    {
     "name": "stdout",
     "output_type": "stream",
     "text": [
      "0 874.5914925336838\n",
      "1 809.873948097229\n",
      "2 762.4502252340317\n",
      "3 755.811993598938\n",
      "4 715.1619335412979\n",
      "5 711.8790354728699\n",
      "6 710.395482301712\n",
      "7 709.2017406225204\n",
      "8 708.2337771654129\n",
      "9 707.5778524875641\n",
      "10 707.6888785362244\n",
      "11 706.8414466381073\n",
      "12 706.2854729890823\n",
      "13 705.9975581169128\n",
      "14 705.7148929834366\n",
      "15 705.3777352571487\n",
      "16 705.1587846279144\n",
      "17 705.0864281654358\n",
      "18 705.0952854156494\n",
      "19 704.9532740116119\n"
     ]
    }
   ],
   "source": [
    "model_trained = CNN(nn.LeakyReLU)\n",
    "\n",
    "criterion = nn.CrossEntropyLoss()\n",
    "optimizer = optim.Adam(model_trained.parameters(), lr=0.001)\n",
    "\n",
    "for epoch in range(20):  # loop over the dataset multiple times\n",
    "    running_loss = 0.0\n",
    "    for i, data in enumerate(trainLoader, 0):\n",
    "        # get the inputs; data is a list of [inputs, labels]\n",
    "        inputs, labels = data\n",
    "        labels_trained = labels\n",
    "        # zero the parameter gradients\n",
    "        optimizer.zero_grad()\n",
    "\n",
    "        # forward + backward + optimize\n",
    "        outputs = model_trained(inputs)\n",
    "        loss = criterion(outputs, labels)\n",
    "        loss.backward()\n",
    "        optimizer.step()\n",
    "\n",
    "        # print statistics\n",
    "        running_loss += loss.item()\n",
    "\n",
    "    \n",
    "    print(epoch, running_loss)\n",
    "    "
   ]
  },
  {
   "cell_type": "markdown",
   "metadata": {},
   "source": [
    "# Visualization (Untrained)"
   ]
  },
  {
   "cell_type": "code",
   "execution_count": 44,
   "metadata": {},
   "outputs": [
    {
     "name": "stdout",
     "output_type": "stream",
     "text": [
      "[t-SNE] Computing 99 nearest neighbors...\n",
      "[t-SNE] Indexed 100 samples in 0.000s...\n",
      "[t-SNE] Computed neighbors for 100 samples in 0.007s...\n",
      "[t-SNE] Computed conditional probabilities for sample 100 / 100\n",
      "[t-SNE] Mean sigma: 1.296134\n",
      "[t-SNE] KL divergence after 250 iterations with early exaggeration: 51.374077\n",
      "[t-SNE] KL divergence after 850 iterations: 0.353700\n"
     ]
    }
   ],
   "source": [
    "copy_untrained_data = model_untrained.images\n",
    "\n",
    "pca = PCA(n_components=2)\n",
    "pca.fit(copy_untrained_data)\n",
    "X_untrained_PCA = pca.transform(copy_untrained_data)\n",
    "\n",
    "tsne = TSNE(n_components=2, verbose=1, perplexity=40, n_iter=1000)\n",
    "X_untrained = tsne.fit_transform(copy_untrained_data)\n",
    "numbers = [0,1,2,3,4,5,6,7,8,9]\n",
    "\n"
   ]
  },
  {
   "cell_type": "code",
   "execution_count": 45,
   "metadata": {},
   "outputs": [
    {
     "data": {
      "image/png": "[encoded data removed]",
      "text/plain": [
       "<Figure size 432x360 with 1 Axes>"
      ]
     },
     "metadata": {
      "needs_background": "light"
     },
     "output_type": "display_data"
    },
    {
     "data": {
      "image/png": "[encoded data removed]",
      "text/plain": [
       "<Figure size 432x360 with 1 Axes>"
      ]
     },
     "metadata": {
      "needs_background": "light"
     },
     "output_type": "display_data"
    }
   ],
   "source": [
    "from matplotlib import pyplot as plt\n",
    "colors = 'r', 'g', 'b', 'c', 'm', 'y', 'k', 'pink', 'orange', 'purple'\n",
    "\n",
    "plt.figure(figsize=(6, 5))\n",
    "for i, c, label in zip(range(0,10), colors, numbers):\n",
    "    plt.scatter(X_untrained[labels_untrained[0:100] == i, 0], X_untrained[labels_untrained[0:100] == i, 1], c=c, label=label)\n",
    "plt.legend()\n",
    "plt.show()\n",
    "\n",
    "plt.figure(figsize=(6, 5))\n",
    "for i, c, label in zip(range(0,10), colors, numbers):\n",
    "    plt.scatter(X_untrained_PCA[labels_untrained[0:100] == i, 0], X_untrained_PCA[labels_untrained[0:100] == i, 1], c=c, label=label)\n",
    "plt.legend()\n",
    "plt.show()"
   ]
  },
  {
   "cell_type": "markdown",
   "metadata": {},
   "source": [
    "# Visualization (Trained)"
   ]
  },
  {
   "cell_type": "code",
   "execution_count": 51,
   "metadata": {},
   "outputs": [
    {
     "name": "stdout",
     "output_type": "stream",
     "text": [
      "[t-SNE] Computing 99 nearest neighbors...\n",
      "[t-SNE] Indexed 100 samples in 0.000s...\n",
      "[t-SNE] Computed neighbors for 100 samples in 0.005s...\n",
      "[t-SNE] Computed conditional probabilities for sample 100 / 100\n",
      "[t-SNE] Mean sigma: 8.215596\n",
      "[t-SNE] KL divergence after 250 iterations with early exaggeration: 52.503925\n",
      "[t-SNE] KL divergence after 800 iterations: 0.359328\n"
     ]
    }
   ],
   "source": [
    "#tsne_trained2 = TSNE(n_components=2, verbose=1, perplexity=40, n_iter=300)\n",
    "copy_trained_data = model_trained.images\n",
    "\n",
    "pca.fit(copy_trained_data)\n",
    "X_trained_PCA = pca.transform(copy_trained_data)\n",
    "\n",
    "x_trained = tsne.fit_transform(copy_trained_data)\n",
    "\n"
   ]
  },
  {
   "cell_type": "code",
   "execution_count": 52,
   "metadata": {},
   "outputs": [
    {
     "data": {
      "image/png": "[encoded data removed]",
      "text/plain": [
       "<Figure size 432x360 with 1 Axes>"
      ]
     },
     "metadata": {
      "needs_background": "light"
     },
     "output_type": "display_data"
    },
    {
     "data": {
      "image/png": "[encoded data removed]",
      "text/plain": [
       "<Figure size 432x360 with 1 Axes>"
      ]
     },
     "metadata": {
      "needs_background": "light"
     },
     "output_type": "display_data"
    }
   ],
   "source": [
    "plt.figure(figsize=(6, 5))\n",
    "for i, c, label in zip(range(0,10), colors, numbers):\n",
    "    plt.scatter(x_trained[labels_trained[0:100] == i, 0], x_trained[labels_trained[0:100] == i, 1], c=c, label=label)\n",
    "plt.legend()\n",
    "plt.show()\n",
    "\n",
    "plt.figure(figsize=(6, 5))\n",
    "for i, c, label in zip(range(0,10), colors, numbers):\n",
    "    plt.scatter(X_trained_PCA[labels_trained[0:100] == i, 0], X_trained_PCA[labels_trained[0:100] == i, 1], c=c, label=label)\n",
    "plt.legend()\n",
    "plt.show()"
   ]
  },
  {
   "cell_type": "markdown",
   "metadata": {},
   "source": [
    "# Accuracy on testset"
   ]
  },
  {
   "cell_type": "code",
   "execution_count": 38,
   "metadata": {},
   "outputs": [
    {
     "name": "stdout",
     "output_type": "stream",
     "text": [
      " predicted =  7.784431137724551 % of total  668\n",
      " predicted =  98.35329341317365 % of total  668\n"
     ]
    }
   ],
   "source": [
    "def test(model, loader):\n",
    "    true_labels=[]\n",
    "    pred_labels=[]\n",
    "    correct = 0\n",
    "    total = 0\n",
    "    losses = []\n",
    "    with torch.no_grad():\n",
    "        for i, data in enumerate(loader, 0):\n",
    "            image, label = data\n",
    "            pred = model(image)\n",
    "            for i in range(len(data)):\n",
    "                if torch.argmax(pred[i]) == label[i]:\n",
    "                    correct += 1\n",
    "                total += 1\n",
    "    print(\" predicted = \", correct/total*100, \"% of total \",total)\n",
    "test(model_untrained,testLoader)\n",
    "test(model_trained,testLoader)"
   ]
  },
  {
   "cell_type": "markdown",
   "metadata": {},
   "source": [
    "# Combined visualization of trained/untrained:"
   ]
  },
  {
   "cell_type": "markdown",
   "metadata": {},
   "source": [
    "![Visualization combined](results.png)"
   ]
  }
 ],
 "metadata": {
  "kernelspec": {
   "display_name": "Python 3",
   "language": "python",
   "name": "python3"
  },
  "language_info": {
   "codemirror_mode": {
    "name": "ipython",
    "version": 3
   },
   "file_extension": ".py",
   "mimetype": "text/x-python",
   "name": "python",
   "nbconvert_exporter": "python",
   "pygments_lexer": "ipython3",
   "version": "3.6.12"
  }
 },
 "nbformat": 4,
 "nbformat_minor": 4
}
