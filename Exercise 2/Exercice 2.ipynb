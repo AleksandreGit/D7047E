{
 "cells": [
  {
   "cell_type": "code",
   "execution_count": 1,
   "metadata": {},
   "outputs": [],
   "source": [
    "import torch\n",
    "import torch.nn as nn\n",
    "import torchvision.transforms as transforms\n",
    "import torchvision.models as models\n",
    "import torchvision\n",
    "import numpy as np\n",
    "from sklearn.model_selection import train_test_split\n",
    "import torch.nn.functional as F\n",
    "from torch.utils.tensorboard import SummaryWriter\n",
    "import torch"
   ]
  },
  {
   "cell_type": "markdown",
   "metadata": {},
   "source": [
    "## 1.1.1 Transfer Learning from ImageNet"
   ]
  },
  {
   "cell_type": "code",
   "execution_count": 2,
   "metadata": {},
   "outputs": [
    {
     "name": "stdout",
     "output_type": "stream",
     "text": [
      "Files already downloaded and verified\n",
      "Files already downloaded and verified\n"
     ]
    }
   ],
   "source": [
    "# Writer will output to ./runs/ directory by default\n",
    "writer = SummaryWriter()\n",
    "\n",
    "transform = transforms.Compose(\n",
    "    [\n",
    "    transforms.Resize(256),\n",
    "    transforms.CenterCrop(224),\n",
    "    transforms.ToTensor(),\n",
    "    transforms.Normalize(mean=[0.485, 0.456, 0.406], std=[0.229, 0.224, 0.225]),\n",
    "])\n",
    "\n",
    "trainset = torchvision.datasets.CIFAR10(root='./data', train=True,\n",
    "                                        download=True, transform=transform)\n",
    "X_train, X_val= train_test_split(\n",
    "trainset, test_size=0.2, random_state=42)\n",
    "\n",
    "trainloader = torch.utils.data.DataLoader(X_train, batch_size=64,\n",
    "                                          shuffle=True, num_workers=2)\n",
    "validationloader = torch.utils.data.DataLoader(X_val, batch_size=64,\n",
    "                                          shuffle=True, num_workers=2)\n",
    "\n",
    "testset = torchvision.datasets.CIFAR10(root='./data', train=False,\n",
    "                                       download=True, transform=transform)\n",
    "testloader = torch.utils.data.DataLoader(testset, batch_size=64,\n",
    "                                         shuffle=False, num_workers=2)\n",
    "\n",
    "classes = ('plane', 'car', 'bird', 'cat',\n",
    "           'deer', 'dog', 'frog', 'horse', 'ship', 'truck')"
   ]
  },
  {
   "cell_type": "code",
   "execution_count": 3,
   "metadata": {},
   "outputs": [],
   "source": [
    "model_fe = models.alexnet(pretrained=True)\n",
    "\n",
    "# We don't calculate the gradient for the actual fully-connected layer\n",
    "for param in model_fe.parameters():\n",
    "    param.requires_grad = False\n",
    "\n",
    "# We get the number of input features of the fully-connected layer\n",
    "num_ftrs = model_fe.classifier[6].in_features\n",
    "\n",
    "# Adding a new fully connected linear layer\n",
    "model_fe.classifier[6] = nn.Sequential (\n",
    "    nn.Linear(num_ftrs, 300),\n",
    "    nn.LeakyReLU(),\n",
    "    nn.Linear(300, 10),\n",
    "    nn.Softmax(dim=1))"
   ]
  },
  {
   "cell_type": "code",
   "execution_count": 4,
   "metadata": {},
   "outputs": [],
   "source": [
    "def validate(model, modelVal, validationLoader):\n",
    "    correct = 0\n",
    "    total = 0\n",
    "    finalLoss = 0\n",
    "    batchSize = 0 \n",
    "    criterion = nn.CrossEntropyLoss()\n",
    "    with torch.no_grad():\n",
    "        for i, data in enumerate(validationLoader, 0):\n",
    "            image, label = data\n",
    "            pred = model(image)\n",
    "            outputs = model(image)\n",
    "            loss = criterion(outputs, label)\n",
    "            finalLoss += loss       \n",
    "            batchSize = i\n",
    "    return finalLoss/batchSize"
   ]
  },
  {
   "cell_type": "code",
   "execution_count": 5,
   "metadata": {},
   "outputs": [
    {
     "name": "stderr",
     "output_type": "stream",
     "text": [
      "C:\\Users\\alexc\\anaconda3\\lib\\site-packages\\torch\\nn\\modules\\container.py:119: UserWarning: Implicit dimension choice for softmax has been deprecated. Change the call to include dim=X as an argument.\n",
      "  input = module(input)\n"
     ]
    },
    {
     "ename": "TypeError",
     "evalue": "validate() missing 1 required positional argument: 'validationLoader'",
     "output_type": "error",
     "traceback": [
      "\u001b[1;31m---------------------------------------------------------------------------\u001b[0m",
      "\u001b[1;31mTypeError\u001b[0m                                 Traceback (most recent call last)",
      "\u001b[1;32m<ipython-input-5-fbdfbb66e2b3>\u001b[0m in \u001b[0;36m<module>\u001b[1;34m\u001b[0m\n\u001b[0;32m     27\u001b[0m     \u001b[0mwriter\u001b[0m\u001b[1;33m.\u001b[0m\u001b[0madd_scalar\u001b[0m\u001b[1;33m(\u001b[0m\u001b[1;34m'CIFAR10 Loss/train'\u001b[0m\u001b[1;33m,\u001b[0m \u001b[0mrunning_loss\u001b[0m \u001b[1;33m/\u001b[0m \u001b[1;36m625\u001b[0m\u001b[1;33m,\u001b[0m \u001b[0mepoch\u001b[0m\u001b[1;33m)\u001b[0m\u001b[1;33m\u001b[0m\u001b[1;33m\u001b[0m\u001b[0m\n\u001b[0;32m     28\u001b[0m \u001b[1;33m\u001b[0m\u001b[0m\n\u001b[1;32m---> 29\u001b[1;33m     \u001b[0mval_loss\u001b[0m \u001b[1;33m=\u001b[0m \u001b[0mvalidate\u001b[0m\u001b[1;33m(\u001b[0m\u001b[0mmodel_fe\u001b[0m\u001b[1;33m,\u001b[0m \u001b[1;36m1\u001b[0m\u001b[1;33m)\u001b[0m\u001b[1;33m\u001b[0m\u001b[1;33m\u001b[0m\u001b[0m\n\u001b[0m\u001b[0;32m     30\u001b[0m \u001b[1;33m\u001b[0m\u001b[0m\n\u001b[0;32m     31\u001b[0m     print('[%d, %5d] loss: %.3f %.3f validation loss --> learning rate %.9f' %\n",
      "\u001b[1;31mTypeError\u001b[0m: validate() missing 1 required positional argument: 'validationLoader'"
     ]
    }
   ],
   "source": [
    "import torch.optim as optim\n",
    "\n",
    "criterion = nn.CrossEntropyLoss()\n",
    "optimizer = optim.Adam(model_fe.parameters(), lr=0.001)\n",
    "\n",
    "decayRate = 0.96\n",
    "scheduler = torch.optim.lr_scheduler.ExponentialLR(optimizer=optimizer, gamma=decayRate)\n",
    "\n",
    "for epoch in range(10):  # loop over the dataset multiple times\n",
    "    running_loss = 0.0\n",
    "    for i, data in enumerate(trainloader, 0):\n",
    "        # get the inputs; data is a list of [inputs, labels]\n",
    "        inputs, labels = data\n",
    "\n",
    "        # zero the parameter gradients\n",
    "        optimizer.zero_grad()\n",
    "\n",
    "        #64, 3, 11, 11\n",
    "        # forward + backward + optimize\n",
    "        outputs = model_fe(inputs)\n",
    "        loss = criterion(outputs, labels)\n",
    "        loss.backward()\n",
    "        optimizer.step()\n",
    "\n",
    "        # print statistics\n",
    "        running_loss += loss.item()\n",
    "    writer.add_scalar('CIFAR10 Loss/train', running_loss / 625, epoch) \n",
    "    \n",
    "    val_loss = validate(model_fe, 1, validationloader)\n",
    "    \n",
    "    print('[%d, %5d] loss: %.3f %.3f validation loss --> learning rate %.9f' %\n",
    "          (epoch + 1, i + 1, running_loss / 625, val_loss, optimizer.param_groups[0]['lr']))\n",
    "    \n",
    "    writer.add_scalar('CIFAR10 Validation Loss/train', val_loss, epoch) \n",
    "    running_loss = 0.0\n",
    "    scheduler.step()\n",
    "\n",
    "print('Finished Training')"
   ]
  },
  {
   "cell_type": "code",
   "execution_count": 12,
   "metadata": {},
   "outputs": [
    {
     "data": {
      "text/plain": [
       "625"
      ]
     },
     "execution_count": 12,
     "metadata": {},
     "output_type": "execute_result"
    }
   ],
   "source": [
    "model2 = models.alexnet(pretrained=True)\n",
    "\n",
    "# We don't calculate the gradient for the actual fully-connected layer\n",
    "for param in model2.parameters():\n",
    "    param.requires_grad = True\n",
    "\n",
    "# We get the number of input features of the fully-connected layer\n",
    "num_ftrs = model2.classifier[6].in_features\n",
    "\n",
    "# Adding a new fully connected linear layer\n",
    "model2.classifier[6] = nn.Linear(num_ftrs, 10)"
   ]
  },
  {
   "cell_type": "code",
   "execution_count": null,
   "metadata": {},
   "outputs": [],
   "source": [
    "criterion = nn.CrossEntropyLoss()\n",
    "optimizer = optim.Adam(model2.parameters(), lr=0.001)\n",
    "\n",
    "decayRate = 0.96\n",
    "scheduler = torch.optim.lr_scheduler.ExponentialLR(optimizer=optimizer, gamma=decayRate)\n",
    "\n",
    "for epoch in range(10):  # loop over the dataset multiple times\n",
    "    running_loss = 0.0\n",
    "    for i, data in enumerate(trainloader, 0):\n",
    "        # get the inputs; data is a list of [inputs, labels]\n",
    "        inputs, labels = data\n",
    "\n",
    "        # zero the parameter gradients\n",
    "        optimizer.zero_grad()\n",
    "\n",
    "        #64, 3, 11, 11\n",
    "        # forward + backward + optimize\n",
    "        outputs = model2(inputs)\n",
    "        loss = criterion(outputs, labels)\n",
    "        loss.backward()\n",
    "        optimizer.step()\n",
    "\n",
    "        # print statistics\n",
    "        writer.add_scalar('Model2 Loss/train', loss.item(), epoch*625+i) \n",
    "        running_loss += loss.item()\n",
    "        if i % 25 == 24:    # print every 25 mini-batches\n",
    "            val_loss = validate(model2, 1, validationloader)\n",
    "            print('[%d, %5d] loss: %.3f %.3f validation loss --> learning rate %.9f' %\n",
    "                  (epoch + 1, i + 1, running_loss / 25, val_loss, optimizer.param_groups[0]['lr']))\n",
    "            writer.add_scalar('Model2 Validation Loss/train', val_loss, epoch*625+i) \n",
    "            running_loss = 0.0\n",
    "    scheduler.step()\n",
    "\n",
    "print('Finished Training')"
   ]
  },
  {
   "cell_type": "markdown",
   "metadata": {},
   "source": [
    "## 1.1.2 Transfer Learning from MNIST"
   ]
  },
  {
   "cell_type": "code",
   "execution_count": 3,
   "metadata": {},
   "outputs": [],
   "source": [
    "class CNN(nn.Module):\n",
    "    def __init__(self,activation_function):\n",
    "        super().__init__()\n",
    "        self.conv = nn.Sequential(\n",
    "            nn.Conv2d(1, 6, 3),#28x28 -> 26x26 (no pad)\n",
    "            activation_function(),\n",
    "            nn.MaxPool2d(2, stride = 2), #2x2 maxpool (devide hight and with by 2 -> 13x13)\n",
    "            nn.Conv2d(6, 10, 3),#(no padding -> 11x11)\n",
    "            activation_function(),\n",
    "        )\n",
    "        self.linear_lay = nn.Sequential(\n",
    "            nn.Linear(1210, 300),# (11X11X10 (outchanels))\n",
    "            activation_function(),\n",
    "            nn.Linear(300, 50),\n",
    "            activation_function(),\n",
    "            nn.Linear(50,10)\n",
    "        )\n",
    "        \n",
    "    def forward(self, x):\n",
    "        x = self.conv(x)\n",
    "        x = x.view(x.size(0),-1)# this flattens X before linear layer\n",
    "        x = self.linear_lay(x) # bc this is our output layer. No activation here.\n",
    "        \n",
    "        return F.softmax(x, dim=1)\n",
    "            "
   ]
  },
  {
   "cell_type": "code",
   "execution_count": 4,
   "metadata": {},
   "outputs": [
    {
     "name": "stdout",
     "output_type": "stream",
     "text": [
      "Using downloaded and verified file: ./data\\train_32x32.mat\n",
      "Using downloaded and verified file: ./data\\test_32x32.mat\n"
     ]
    }
   ],
   "source": [
    "transformSVHN = transforms.Compose(\n",
    "    [\n",
    "    transforms.Grayscale(),\n",
    "    transforms.ToTensor(),\n",
    "    transforms.Resize((28, 28))\n",
    "    ])\n",
    "\n",
    "transformMNIST = transforms.Compose(\n",
    "    [\n",
    "    transforms.Grayscale(),\n",
    "    transforms.ToTensor(),\n",
    "    transforms.RandomRotation((-75, 75))\n",
    "    ])\n",
    "\n",
    "# SVHN\n",
    "trainSVHN = torchvision.datasets.SVHN(root='./data', split='train',\n",
    "                                        download=True, transform=transformSVHN)\n",
    "X_trainSVHN, X_valSVHN= train_test_split(\n",
    "trainSVHN, test_size=0.2, random_state=42)\n",
    "\n",
    "trainSVHNLoader = torch.utils.data.DataLoader(X_trainSVHN, batch_size=64,\n",
    "                                          shuffle=True, num_workers=2)\n",
    "\n",
    "validationSVHNLoader = torch.utils.data.DataLoader(X_valSVHN, batch_size=64,\n",
    "                                          shuffle=True, num_workers=2)\n",
    "\n",
    "testSVHN = torchvision.datasets.SVHN(root='./data', split='test',\n",
    "                                       download=True, transform=transformSVHN)\n",
    "\n",
    "testSVHNLoader = torch.utils.data.DataLoader(testSVHN, batch_size=64,\n",
    "                                         shuffle=False, num_workers=2)\n",
    "\n",
    "# MNIST                                           \n",
    "trainMNIST = torchvision.datasets.MNIST(root='./data', train=True,\n",
    "                                        download=True, transform=transformMNIST)\n",
    "X_trainMNIST, X_valMNIST= train_test_split(\n",
    "trainMNIST, test_size=0.2, random_state=42)\n",
    "\n",
    "trainMNISTLoader = torch.utils.data.DataLoader(X_trainMNIST, batch_size=64,\n",
    "                                          shuffle=True, num_workers=2)\n",
    "\n",
    "validationMNISTLoader = torch.utils.data.DataLoader(X_valMNIST, batch_size=64,\n",
    "                                          shuffle=True, num_workers=2)\n",
    "\n",
    "testMNIST = torchvision.datasets.MNIST(root='./data', train=False,\n",
    "                                       download=True, transform=transformMNIST)\n",
    "testMNISTLoader = torch.utils.data.DataLoader(testMNIST, batch_size=64,\n",
    "                                         shuffle=False, num_workers=2)\n"
   ]
  },
  {
   "cell_type": "code",
   "execution_count": 5,
   "metadata": {},
   "outputs": [
    {
     "name": "stdout",
     "output_type": "stream",
     "text": [
      "[1,   750] loss: 1.791 1.622 validation loss --> learning rate 0.000960000\n",
      "[2,   750] loss: 1.567 1.569 validation loss --> learning rate 0.000921600\n",
      "[3,   750] loss: 1.536 1.538 validation loss --> learning rate 0.000884736\n",
      "[4,   750] loss: 1.521 1.536 validation loss --> learning rate 0.000849347\n",
      "[5,   750] loss: 1.513 1.533 validation loss --> learning rate 0.000815373\n",
      "[6,   750] loss: 1.505 1.526 validation loss --> learning rate 0.000782758\n",
      "Finished Training\n"
     ]
    }
   ],
   "source": [
    "import torch.optim as optim\n",
    "writer = SummaryWriter()\n",
    "modelMNIST = CNN(nn.LeakyReLU)\n",
    "\n",
    "criterion = nn.CrossEntropyLoss()\n",
    "optimizer = optim.Adam(modelMNIST.parameters(), lr=0.001)\n",
    "\n",
    "decayRate = 0.96\n",
    "scheduler = torch.optim.lr_scheduler.ExponentialLR(optimizer=optimizer, gamma=decayRate)\n",
    "\n",
    "for epoch in range(6):  # loop over the dataset multiple times\n",
    "    running_loss = 0.0\n",
    "    for i, data in enumerate(trainMNISTLoader, 0):\n",
    "        # get the inputs; data is a list of [inputs, labels]\n",
    "        inputs, labels = data\n",
    "        \n",
    "        # zero the parameter gradients\n",
    "        optimizer.zero_grad()\n",
    "        \n",
    "        #inputs = inputs.view(-1, 1, 28, 28)\n",
    "        #64, 3, 11, 11\n",
    "        # forward + backward + optimize\n",
    "        outputs = modelMNIST(inputs)\n",
    "        loss = criterion(outputs, labels)\n",
    "        loss.backward()\n",
    "        optimizer.step()\n",
    "\n",
    "        # print statistics\n",
    "        running_loss += loss.item()\n",
    "        \n",
    "    writer.add_scalar('MNIST Loss/train', running_loss/750, epoch) \n",
    "    \n",
    "    scheduler.step()\n",
    "    val_loss = validate(modelMNIST, 3, validationMNISTLoader)\n",
    "    print('[%d, %5d] loss: %.3f %.3f validation loss --> learning rate %.9f' %\n",
    "          (epoch + 1, i + 1, running_loss / 750, val_loss, optimizer.param_groups[0]['lr']))\n",
    "    writer.add_scalar('MNIST Validation Loss/train', val_loss, epoch) \n",
    "\n",
    "print('Finished Training')"
   ]
  },
  {
   "cell_type": "code",
   "execution_count": 6,
   "metadata": {},
   "outputs": [],
   "source": [
    "modelSVHN = modelMNIST\n",
    "\n",
    "# We don't calculate the gradient for the actual fully-connected layer\n",
    "for param in modelSVHN.parameters():\n",
    "    param.requires_grad = False"
   ]
  },
  {
   "cell_type": "code",
   "execution_count": 7,
   "metadata": {},
   "outputs": [],
   "source": [
    "def test(model, loader):\n",
    "    true_labels=[]\n",
    "    pred_labels=[]\n",
    "    correct = 0\n",
    "    total = 0\n",
    "    losses = []\n",
    "    with torch.no_grad():\n",
    "        for i, data in enumerate(loader, 0):\n",
    "            image, label = data\n",
    "            pred = model(image)\n",
    "            for i in range(len(data)):\n",
    "                if torch.argmax(pred[i]) == label[i]:\n",
    "                    correct += 1\n",
    "                total += 1\n",
    "    print(\" predicted = \", correct/total*100, \"% of total \",total)"
   ]
  },
  {
   "cell_type": "code",
   "execution_count": 8,
   "metadata": {},
   "outputs": [
    {
     "name": "stdout",
     "output_type": "stream",
     "text": [
      " predicted =  20.638820638820636 % of total  814\n"
     ]
    }
   ],
   "source": [
    "test(modelSVHN, testSVHNLoader)"
   ]
  },
  {
   "cell_type": "code",
   "execution_count": 9,
   "metadata": {},
   "outputs": [
    {
     "name": "stdout",
     "output_type": "stream",
     "text": [
      " predicted =  93.63057324840764 % of total  314\n"
     ]
    }
   ],
   "source": [
    "test(modelMNIST, testMNISTLoader)"
   ]
  },
  {
   "cell_type": "code",
   "execution_count": null,
   "metadata": {},
   "outputs": [],
   "source": []
  }
 ],
 "metadata": {
  "kernelspec": {
   "display_name": "Python 3",
   "language": "python",
   "name": "python3"
  },
  "language_info": {
   "codemirror_mode": {
    "name": "ipython",
    "version": 3
   },
   "file_extension": ".py",
   "mimetype": "text/x-python",
   "name": "python",
   "nbconvert_exporter": "python",
   "pygments_lexer": "ipython3",
   "version": "3.8.5"
  }
 },
 "nbformat": 4,
 "nbformat_minor": 4
}
